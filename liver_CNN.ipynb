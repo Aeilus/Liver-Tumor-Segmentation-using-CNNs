{
 "cells": [
  {
   "cell_type": "code",
   "execution_count": null,
   "metadata": {},
   "outputs": [],
   "source": [
    "# for folder in os.listdir(\"dummyDataset\"):\n",
    "# #     print(folder)\n",
    "#     x = folder.split('db')\n",
    "#     folder_path = os.path.join('dummyDataset    for subfolder in os.listdir(folder_path):\n",
    "#     subfolder_path = os.path.join(folder_path,subfolder)\n",
    "#     for subfolder in os.listdir(folder_path):\n",
    "#         subfolder_path = os.path.join(folder_path,subfolder)\n",
    "#         if os.path.isdir(subfolder_path):\n",
    "#             for sub_sub in os.listdir(subfolder_path):\n",
    "#                 if os.path.isdir(os.path.join(subfolder_path, sub_sub)):\n",
    "#                     for image in os.listdir(os.path.join(subfolder_path, sub_sub)):\n",
    "#                         src= os.path.join(subfolder_path, sub_sub, image)\n",
    "#                         dst = os.path.join(subfolder_path, sub_sub, x[1]+'_'+image)\n",
    "#                         os.rename(src, dst)\n",
    "                        \n",
    "#                 else:\n",
    "#                     src= os.path.join(subfolder_path, sub_sub)\n",
    "#                     dst = os.path.join(subfolder_path, x[1]+'_'+sub_sub)\n",
    "#                     os.rename(src, dst)"
   ]
  },
  {
   "cell_type": "code",
   "execution_count": 1,
   "metadata": {},
   "outputs": [],
   "source": [
    "import os, glob\n",
    "import sys\n",
    "import pydicom\n",
    "import natsort\n",
    "import random\n",
    "import re\n",
    "import scipy\n",
    "import scipy.misc\n",
    "import numpy as np\n",
    "import cv2\n",
    "import matplotlib.pyplot as plt\n",
    "from PIL import Image\n",
    "import tensorflow as tf\n",
    "from tensorflow import keras\n",
    "plt.set_cmap('gray')\n",
    "%matplotlib inline\n",
    "## Seeding \n",
    "seed = 2019\n",
    "random.seed = seed\n",
    "np.random.seed = seed\n",
    "tf.seed = seed\n",
    "\n",
    "\n",
    "IMG_DTYPE = np.float\n",
    "SEG_DTYPE = np.uint8\n"
   ]
  },
  {
   "cell_type": "code",
   "execution_count": 2,
   "metadata": {},
   "outputs": [],
   "source": [
    "def read_dicom_series(directory, filepattern = \"image_*\"):\n",
    "    \"\"\" Reads a DICOM Series files in the given directory. \n",
    "    Only filesnames matching filepattern will be considered\"\"\"\n",
    "    \n",
    "    if not os.path.exists(directory) or not os.path.isdir(directory):\n",
    "        raise ValueError(\"Given directory does not exist or is a file : \"+str(directory))\n",
    "    print ('\\tRead Dicom',directory)\n",
    "    lstFilesDCM = natsort.natsorted(glob.glob(os.path.join(directory, filepattern)))\n",
    "    print ('\\tLength dicom series',len(lstFilesDCM))\n",
    "    # Get ref file\n",
    "    RefDs = dicom.read_file(lstFilesDCM[0])\n",
    "    # Load dimensions based on the number of rows, columns, and slices (along the Z axis)\n",
    "    ConstPixelDims = (int(RefDs.Rows), int(RefDs.Columns), len(lstFilesDCM))\n",
    "    # The array is sized based on 'ConstPixelDims'\n",
    "    ArrayDicom = np.zeros(ConstPixelDims, dtype=RefDs.pixel_array.dtype)\n",
    "\n",
    "    # loop through all the DICOM files\n",
    "    for filenameDCM in lstFilesDCM:\n",
    "        # read the file\n",
    "        ds = dicom.read_file(filenameDCM)\n",
    "        # store the raw image data\n",
    "        ArrayDicom[:, :, lstFilesDCM.index(filenameDCM)] = ds.pixel_array\n",
    "\n",
    "    return ArrayDicom\n",
    "\n",
    "def read_liver_lesion_masks(masks_dirname):\n",
    "    \"\"\"Since 3DIRCAD provides an individual mask for each tissue type (in DICOM series format),\n",
    "    we merge multiple tissue types into one Tumor mask, and merge this mask with the liver mask\n",
    "    \n",
    "    Args:\n",
    "        masks_dirname : MASKS_DICOM directory containing multiple DICOM series directories, \n",
    "                        one for each labelled mask\n",
    "    Returns:\n",
    "        numpy array with 0's for background pixels, 1's for liver pixels and 2's for tumor pixels\n",
    "    \"\"\"\n",
    "    tumor_volume = None\n",
    "    liver_volume = None\n",
    "    \n",
    "    # For each relevant organ in the current volume\n",
    "    for organ in os.listdir(masks_dirname):\n",
    "        organ_path = os.path.join(masks_dirname,organ)\n",
    "        if not os.path.isdir(organ_path):\n",
    "            continue\n",
    "        \n",
    "        organ = organ.lower()\n",
    "        \n",
    "        if organ.startswith(\"livertumor\") or re.match(\"liver.yst.*\", organ) or organ.startswith(\"stone\") or organ.startswith(\"metastasecto\") :\n",
    "            print('Organ',masks_dirname,organ)\n",
    "            current_tumor = read_dicom_series(organ_path)\n",
    "            current_tumor = np.clip(current_tumor,0,1)\n",
    "            # Merge different tumor masks into a single mask volume\n",
    "            tumor_volume = current_tumor if tumor_volume is None else np.logical_or(tumor_volume,current_tumor)\n",
    "        elif organ == 'liver':\n",
    "            print('Organ',masks_dirname,organ)\n",
    "            liver_volume = read_dicom_series(organ_path)\n",
    "            liver_volume = np.clip(liver_volume, 0, 1)\n",
    "    \n",
    "    # Merge liver and tumor into 1 volume with background=0, liver=1, tumor=2\n",
    "    label_volume = np.zeros(liver_volume.shape)\n",
    "    label_volume[liver_volume==1]=1\n",
    "    label_volume[tumor_volume==1]=2\n",
    "    return label_volume    \n",
    "            \n",
    "def stat(array):\n",
    "    print('min',np.min(array),'max',np.max(array),'median',np.median(array),'avg',np.mean(array))\n",
    "def imshow(*args,**kwargs):\n",
    "    \"\"\" Handy function to show multiple plots in on row, possibly with different cmaps and titles\n",
    "    Usage: \n",
    "    imshow(img1, title=\"myPlot\")\n",
    "    imshow(img1,img2, title=['title1','title2'])\n",
    "    imshow(img1,img2, cmap='hot')\n",
    "    imshow(img1,img2,cmap=['gray','Blues']) \"\"\"\n",
    "    cmap = kwargs.get('cmap', 'gray')\n",
    "    title= kwargs.get('title','')\n",
    "    if len(args)==0:\n",
    "        raise ValueError(\"No images given to imshow\")\n",
    "    elif len(args)==1:\n",
    "        plt.title(title)\n",
    "        plt.imshow(args[0], interpolation='none')\n",
    "    else:\n",
    "        n=len(args)\n",
    "        if type(cmap)==str:\n",
    "            cmap = [cmap]*n\n",
    "        if type(title)==str:\n",
    "            title= [title]*n\n",
    "        plt.figure(figsize=(n*5,10))\n",
    "        for i in range(n):\n",
    "            plt.subplot(1,n,i+1)\n",
    "            plt.title(title[i])\n",
    "            plt.imshow(args[i], cmap[i])\n",
    "    plt.show()\n",
    "    \n",
    "def to_scale(img, shape=None):\n",
    "\n",
    "    height, width = shape\n",
    "    if img.dtype == SEG_DTYPE:\n",
    "        return scipy.misc.imresize(img,(height,width),interp=\"nearest\").astype(SEG_DTYPE)\n",
    "    elif img.dtype == IMG_DTYPE:\n",
    "        max_ = np.max(img)\n",
    "        factor = 255.0/max_ if max_ != 0 else 1\n",
    "#         return (scipy.misc.imresize(img,(height,width),interp=\"nearest\")/factor).astype(IMG_DTYPE)\n",
    "        return np.array(Image.fromarray(img).resize([height, width])/factor).astype(IMG_DTYPE)\n",
    "    else:\n",
    "        raise TypeError('Error. To scale the image array, its type must be np.uint8 or np.float64. (' + str(img.dtype) + ')')\n",
    "\n",
    "\n",
    "def normalize_image(img):\n",
    "    \"\"\" Normalize image values to [0,1] \"\"\"\n",
    "    min_, max_ = float(np.min(img)), float(np.max(img))\n",
    "    return (img - min_) / (max_ - min_)"
   ]
  },
  {
   "cell_type": "code",
   "execution_count": 3,
   "metadata": {},
   "outputs": [],
   "source": [
    "def step1_preprocess_img_slice(img_slc):\n",
    "    \"\"\"\n",
    "    Preprocesses the image 3d volumes by performing the following :\n",
    "    1- Rotate the input volume so the the liver is on the left, spine is at the bottom of the image\n",
    "    2- Set pixels with hounsfield value great than 1200, to zero.\n",
    "    3- Clip all hounsfield values to the range [-100, 400]\n",
    "    4- Normalize values to [0, 1]\n",
    "    5- Rescale img and label slices to 388x388\n",
    "    6- Pad img slices with 92 pixels on all sides (so total shape is 572x572)\n",
    "    \n",
    "    Args:\n",
    "        img_slc: raw image slice\n",
    "    Return:\n",
    "        Preprocessed image slice\n",
    "    \"\"\"      \n",
    "    img_slc   = img_slc.astype(IMG_DTYPE)\n",
    "    img_slc[img_slc>1200] = 0\n",
    "    img_slc   = np.clip(img_slc, -100, 400)    \n",
    "#     img_slc   = normalize_image(img_slc)\n",
    "    img_slc   = to_scale(img_slc, (388,388))\n",
    "    img_slc   = np.pad(img_slc,((62,62),(62,62)),mode='reflect')\n",
    "    \n",
    "#     img_slc   = img_slc[:, :, np.newaxis]\n",
    "    if False:\n",
    "        img_slc = histeq_processor(img_slc)\n",
    "\n",
    "    return img_slc"
   ]
  },
  {
   "cell_type": "code",
   "execution_count": 4,
   "metadata": {},
   "outputs": [],
   "source": [
    "class DataGen(keras.utils.Sequence):\n",
    "    def __init__(self, ids, path, batch_size=8, image_size=128):\n",
    "        self.ids = ids\n",
    "        self.path = path\n",
    "        self.batch_size = batch_size\n",
    "        self.image_size = image_size\n",
    "        self.on_epoch_end()\n",
    "        \n",
    "    def __load__(self, id_name):\n",
    "        ## Path\n",
    "#         print(self.path, id_name)\n",
    "#         path = os.path.normpath(self.path)\n",
    "#         x = path.split(os.sep)\n",
    "        tumor_volume = None\n",
    "        liver_volume = None\n",
    "        \n",
    "        image_path = os.path.join(self.path,\"patients\", id_name)\n",
    "        mask_path = os.path.join(self.path,\"masks\")\n",
    "        all_masks = os.listdir(mask_path)\n",
    "        dicom_image = pydicom.dcmread(image_path)\n",
    "        image = step1_preprocess_img_slice(dicom_image.pixel_array)\n",
    "        image = normalize_image(image)\n",
    "        image = np.array(Image.fromarray(image).resize([image_size, image_size])).astype(IMG_DTYPE)\n",
    "        \n",
    "#         print(image)\n",
    "        \n",
    "        mask = np.zeros((self.image_size, self.image_size, 1))\n",
    "        for name in all_masks:\n",
    "            y = id_name.split('_')\n",
    "            if name.startswith(y[0] + '_livertumor') or name.startswith(y[0] + '_liverkyste') or name.startswith(y[0] +'_tumor'):\n",
    "                current_tumor = pydicom.dcmread(os.path.join(mask_path, name, id_name)).pixel_array\n",
    "                current_tumor = current_tumor/255.0\n",
    "                current_tumor = np.clip(current_tumor,0,1)\n",
    "                tumor_volume = current_tumor if tumor_volume is None else np.logical_or(tumor_volume,current_tumor)\n",
    "            elif name == y[0] + '_liver':\n",
    "                liver_volume = pydicom.dcmread(os.path.join(mask_path, name, id_name)).pixel_array\n",
    "                liver_volume = liver_volume/255.0\n",
    "                liver_volume = np.clip(liver_volume, 0, 1)\n",
    " \n",
    "        mask = np.zeros(liver_volume.shape)\n",
    "        mask[liver_volume==1]=1\n",
    "        mask[tumor_volume==1]=1\n",
    "        mask = np.array(Image.fromarray(mask).resize([image_size, image_size])).astype(IMG_DTYPE)\n",
    "#         mask = np.pad(liver_volume,((30,30),(30,30)),mode='reflect')\n",
    "        mask = mask[:, :, np.newaxis]\n",
    "        ## Reading Masks\n",
    "#         for name in all_masks:\n",
    "#             _mask_path = mask_path + name\n",
    "#             _mask_image = cv2.imread(_mask_path, -1)\n",
    "#             _mask_image = cv2.resize(_mask_image, (self.image_size, self.image_size)) #128x128\n",
    "#             _mask_image = np.expand_dims(_mask_image, axis=-1)\n",
    "#             mask = np.maximum(mask, _mask_image)\n",
    "            \n",
    "#         ## Normalizaing \n",
    "#         image = image/255.0\n",
    "#         mask = mask/255.0\n",
    "#         imshow(image)\n",
    "        return image, mask\n",
    "    \n",
    "    def __getitem__(self, index):\n",
    "        if(index+1)*self.batch_size > len(self.ids):\n",
    "            self.batch_size = len(self.ids) - index*self.batch_size\n",
    "        \n",
    "        files_batch = self.ids[index*self.batch_size : (index+1)*self.batch_size]\n",
    "#         print(files_batch)\n",
    "        image = []\n",
    "        mask  = []\n",
    "    \n",
    "        for id_name in files_batch:\n",
    "#             return len(files_batch)\n",
    "            _img, _mask = self.__load__(id_name)\n",
    "#             _img = _img.astype(np.uint8)\n",
    "#             _img = cv2.cvtColor(_img,cv2.COLOR_GRAY2RGB)\n",
    "#             _img = np.broadcast_to(_img[..., np.newaxis], (128, 128, 3))\n",
    "            _img = np.stack((_img,)*3, axis=-1)\n",
    "            image.append(_img)\n",
    "            mask.append(_mask)\n",
    "        \n",
    "        image = np.array(image)\n",
    "        mask  = np.array(mask)\n",
    "#         image = image[:, :, np.newaxis]\n",
    "#         image = cv2.cvtColor(image,cv2.COLOR_GRAY2RGB) \n",
    "\n",
    "        return image, mask\n",
    "    \n",
    "    def on_epoch_end(self):\n",
    "        pass\n",
    "    \n",
    "    def __len__(self):\n",
    "        return int(np.ceil(len(self.ids)/float(self.batch_size)))\n",
    "    \n"
   ]
  },
  {
   "cell_type": "code",
   "execution_count": 5,
   "metadata": {},
   "outputs": [
    {
     "name": "stdout",
     "output_type": "stream",
     "text": [
      "2598\n"
     ]
    }
   ],
   "source": [
    "image_size = 128\n",
    "train_path = \"train\"\n",
    "batch_size = 8\n",
    "\n",
    "## Training Ids\n",
    "images = []\n",
    "for file in os.listdir(os.path.join(train_path, \"patients\")):\n",
    "    images.append(file)\n",
    "print(len(images))\n",
    "\n",
    "## Validation Data Size\n",
    "val_data_size = 400\n",
    "epochs =  len(images)//batch_size\n",
    "\n",
    "valid_ids = images[:val_data_size]\n",
    "train_ids = images[val_data_size:]"
   ]
  },
  {
   "cell_type": "code",
   "execution_count": 6,
   "metadata": {},
   "outputs": [],
   "source": [
    "gen = DataGen(train_ids, train_path, batch_size=batch_size, image_size=image_size)\n",
    "# print(train_ids[2])\n",
    "x, y = gen.__getitem__(0)\n",
    "# for i in range(0, len(y)):\n",
    "#     for j in range(0, len(y[i])):\n",
    "#         for k in range(0, len(y[i][j])):\n",
    "#             if(y[i][j][k][0] > 0):\n",
    "#                 print(y[i][j][k][0])\n",
    "# print(y)\n",
    "# print(x.shape, y.shape)\n",
    "# print(gen.__getitem__(0))"
   ]
  },
  {
   "cell_type": "code",
   "execution_count": 7,
   "metadata": {},
   "outputs": [
    {
     "name": "stdout",
     "output_type": "stream",
     "text": [
      "0\n"
     ]
    },
    {
     "data": {
      "text/plain": [
       "<matplotlib.image.AxesImage at 0x7f8ded3564e0>"
      ]
     },
     "execution_count": 7,
     "metadata": {},
     "output_type": "execute_result"
    },
    {
     "data": {
      "image/png": "[encoded data removed]",
      "text/plain": [
       "<Figure size 432x288 with 2 Axes>"
      ]
     },
     "metadata": {
      "needs_background": "light"
     },
     "output_type": "display_data"
    }
   ],
   "source": [
    "r = random.randint(0, len(x)-1)\n",
    "fig = plt.figure()\n",
    "fig.subplots_adjust(hspace=0.4, wspace=0.4)\n",
    "ax = fig.add_subplot(1, 2, 1)\n",
    "ax.imshow(x[r])\n",
    "print(r)\n",
    "ax = fig.add_subplot(1, 2, 2)\n",
    "ax.imshow(np.reshape(y[r], (image_size, image_size)), cmap=\"gray\")"
   ]
  },
  {
   "cell_type": "code",
   "execution_count": 8,
   "metadata": {},
   "outputs": [],
   "source": [
    "def down_block(x, filters, kernel_size=(3, 3), padding=\"same\", strides=1):\n",
    "    c = keras.layers.Conv2D(filters, kernel_size, padding=padding, strides=strides, activation=\"relu\")(x)\n",
    "    c = keras.layers.Conv2D(filters, kernel_size, padding=padding, strides=strides, activation=\"relu\")(c)\n",
    "    p = keras.layers.MaxPool2D((2, 2), (2, 2))(c)\n",
    "    return c, p\n",
    "\n",
    "def up_block(x, skip, filters, kernel_size=(3, 3), padding=\"same\", strides=1):\n",
    "    us = keras.layers.UpSampling2D((2, 2))(x)\n",
    "    concat = keras.layers.Concatenate()([us, skip])\n",
    "    c = keras.layers.Conv2D(filters, kernel_size, padding=padding, strides=strides, activation=\"relu\")(concat)\n",
    "    c = keras.layers.Conv2D(filters, kernel_size, padding=padding, strides=strides, activation=\"relu\")(c)\n",
    "    return c\n",
    "\n",
    "def bottleneck(x, filters, kernel_size=(3, 3), padding=\"same\", strides=1):\n",
    "    c = keras.layers.Conv2D(filters, kernel_size, padding=padding, strides=strides, activation=\"relu\")(x)\n",
    "    c = keras.layers.Conv2D(filters, kernel_size, padding=padding, strides=strides, activation=\"relu\")(c)\n",
    "    return c"
   ]
  },
  {
   "cell_type": "code",
   "execution_count": 9,
   "metadata": {},
   "outputs": [],
   "source": [
    "def UNet():\n",
    "    f = [16, 32, 64, 128, 256]\n",
    "    inputs = keras.layers.Input((image_size, image_size, 3))\n",
    "    \n",
    "    p0 = inputs\n",
    "    c1, p1 = down_block(p0, f[0]) #128 -> 64\n",
    "    c2, p2 = down_block(p1, f[1]) #64 -> 32\n",
    "    c3, p3 = down_block(p2, f[2]) #32 -> 16\n",
    "    c4, p4 = down_block(p3, f[3]) #16->8\n",
    "    \n",
    "    bn = bottleneck(p4, f[4])\n",
    "    \n",
    "    u1 = up_block(bn, c4, f[3]) #8 -> 16\n",
    "    u2 = up_block(u1, c3, f[2]) #16 -> 32\n",
    "    u3 = up_block(u2, c2, f[1]) #32 -> 64\n",
    "    u4 = up_block(u3, c1, f[0]) #64 -> 128\n",
    "    \n",
    "    outputs = keras.layers.Conv2D(1, (1, 1), padding=\"same\", activation=\"sigmoid\")(u4)\n",
    "    model = keras.models.Model(inputs, outputs)\n",
    "    return model"
   ]
  },
  {
   "cell_type": "code",
   "execution_count": 10,
   "metadata": {},
   "outputs": [],
   "source": [
    "# model = UNet()\n",
    "# model.compile(optimizer=\"adam\", loss=\"binary_crossentropy\", metrics=[\"acc\"])\n",
    "# model.summary()"
   ]
  },
  {
   "cell_type": "code",
   "execution_count": 11,
   "metadata": {
    "scrolled": true
   },
   "outputs": [],
   "source": [
    "# os.environ ['CUDA_VISIBLE_DEVICES'] = '1' \n",
    "train_gen = DataGen(train_ids, train_path, image_size=image_size, batch_size=batch_size)\n",
    "valid_gen = DataGen(valid_ids, train_path, image_size=image_size, batch_size=batch_size)\n",
    "\n",
    "train_steps = len(train_ids)//batch_size\n",
    "valid_steps = len(valid_ids)//batch_size\n",
    "# with tf.device('/gpu:0'):\n",
    "# model.fit_generator(train_gen, validation_data=valid_gen, steps_per_epoch=train_steps, validation_steps=valid_steps, \n",
    "#                     epochs=epochs)"
   ]
  },
  {
   "cell_type": "code",
   "execution_count": 12,
   "metadata": {},
   "outputs": [
    {
     "name": "stdout",
     "output_type": "stream",
     "text": [
      "274 50\n"
     ]
    }
   ],
   "source": [
    "# with tf.device('/gpu:0'):\n",
    "#   a = tf.constant([1.0, 2.0, 3.0, 4.0, 5.0, 6.0], shape=[2, 3], name='a')\n",
    "#   b = tf.constant([1.0, 2.0, 3.0, 4.0, 5.0, 6.0], shape=[3, 2], name='b')\n",
    "# c = tf.matmul(a, b)\n",
    "# # Creates a session with log_device_placement set to True.\n",
    "# sess = tf.Session(config=tf.ConfigProto(log_device_placement=True))\n",
    "# # Runs the op.\n",
    "# print(sess.run(c))\n",
    "print(train_steps, valid_steps)"
   ]
  },
  {
   "cell_type": "code",
   "execution_count": 13,
   "metadata": {},
   "outputs": [
    {
     "name": "stdout",
     "output_type": "stream",
     "text": [
      "__________________________________________________________________________________________________\n",
      "Layer (type)                    Output Shape         Param #     Connected to                     \n",
      "==================================================================================================\n",
      "input_1 (InputLayer)            (None, 128, 128, 3)  0                                            \n",
      "__________________________________________________________________________________________________\n",
      "conv2d (Conv2D)                 (None, 128, 128, 16) 448         input_1[0][0]                    \n",
      "__________________________________________________________________________________________________\n",
      "conv2d_1 (Conv2D)               (None, 128, 128, 16) 2320        conv2d[0][0]                     \n",
      "__________________________________________________________________________________________________\n",
      "max_pooling2d (MaxPooling2D)    (None, 64, 64, 16)   0           conv2d_1[0][0]                   \n",
      "__________________________________________________________________________________________________\n",
      "conv2d_2 (Conv2D)               (None, 64, 64, 32)   4640        max_pooling2d[0][0]              \n",
      "__________________________________________________________________________________________________\n",
      "conv2d_3 (Conv2D)               (None, 64, 64, 32)   9248        conv2d_2[0][0]                   \n",
      "__________________________________________________________________________________________________\n",
      "max_pooling2d_1 (MaxPooling2D)  (None, 32, 32, 32)   0           conv2d_3[0][0]                   \n",
      "__________________________________________________________________________________________________\n",
      "conv2d_4 (Conv2D)               (None, 32, 32, 64)   18496       max_pooling2d_1[0][0]            \n",
      "__________________________________________________________________________________________________\n",
      "conv2d_5 (Conv2D)               (None, 32, 32, 64)   36928       conv2d_4[0][0]                   \n",
      "__________________________________________________________________________________________________\n",
      "max_pooling2d_2 (MaxPooling2D)  (None, 16, 16, 64)   0           conv2d_5[0][0]                   \n",
      "__________________________________________________________________________________________________\n",
      "conv2d_6 (Conv2D)               (None, 16, 16, 128)  73856       max_pooling2d_2[0][0]            \n",
      "__________________________________________________________________________________________________\n",
      "conv2d_7 (Conv2D)               (None, 16, 16, 128)  147584      conv2d_6[0][0]                   \n",
      "__________________________________________________________________________________________________\n",
      "max_pooling2d_3 (MaxPooling2D)  (None, 8, 8, 128)    0           conv2d_7[0][0]                   \n",
      "__________________________________________________________________________________________________\n",
      "conv2d_8 (Conv2D)               (None, 8, 8, 256)    295168      max_pooling2d_3[0][0]            \n",
      "__________________________________________________________________________________________________\n",
      "conv2d_9 (Conv2D)               (None, 8, 8, 256)    590080      conv2d_8[0][0]                   \n",
      "__________________________________________________________________________________________________\n",
      "up_sampling2d (UpSampling2D)    (None, 16, 16, 256)  0           conv2d_9[0][0]                   \n",
      "__________________________________________________________________________________________________\n",
      "concatenate (Concatenate)       (None, 16, 16, 384)  0           up_sampling2d[0][0]              \n",
      "                                                                 conv2d_7[0][0]                   \n",
      "__________________________________________________________________________________________________\n",
      "conv2d_10 (Conv2D)              (None, 16, 16, 128)  442496      concatenate[0][0]                \n",
      "__________________________________________________________________________________________________\n",
      "conv2d_11 (Conv2D)              (None, 16, 16, 128)  147584      conv2d_10[0][0]                  \n",
      "__________________________________________________________________________________________________\n",
      "up_sampling2d_1 (UpSampling2D)  (None, 32, 32, 128)  0           conv2d_11[0][0]                  \n",
      "__________________________________________________________________________________________________\n",
      "concatenate_1 (Concatenate)     (None, 32, 32, 192)  0           up_sampling2d_1[0][0]            \n",
      "                                                                 conv2d_5[0][0]                   \n",
      "__________________________________________________________________________________________________\n",
      "conv2d_12 (Conv2D)              (None, 32, 32, 64)   110656      concatenate_1[0][0]              \n",
      "__________________________________________________________________________________________________\n",
      "conv2d_13 (Conv2D)              (None, 32, 32, 64)   36928       conv2d_12[0][0]                  \n",
      "__________________________________________________________________________________________________\n",
      "up_sampling2d_2 (UpSampling2D)  (None, 64, 64, 64)   0           conv2d_13[0][0]                  \n",
      "__________________________________________________________________________________________________\n",
      "concatenate_2 (Concatenate)     (None, 64, 64, 96)   0           up_sampling2d_2[0][0]            \n",
      "                                                                 conv2d_3[0][0]                   \n",
      "__________________________________________________________________________________________________\n",
      "conv2d_14 (Conv2D)              (None, 64, 64, 32)   27680       concatenate_2[0][0]              \n",
      "__________________________________________________________________________________________________\n",
      "conv2d_15 (Conv2D)              (None, 64, 64, 32)   9248        conv2d_14[0][0]                  \n",
      "__________________________________________________________________________________________________\n",
      "up_sampling2d_3 (UpSampling2D)  (None, 128, 128, 32) 0           conv2d_15[0][0]                  \n",
      "__________________________________________________________________________________________________\n",
      "concatenate_3 (Concatenate)     (None, 128, 128, 48) 0           up_sampling2d_3[0][0]            \n",
      "                                                                 conv2d_1[0][0]                   \n",
      "__________________________________________________________________________________________________\n",
      "conv2d_16 (Conv2D)              (None, 128, 128, 16) 6928        concatenate_3[0][0]              \n",
      "__________________________________________________________________________________________________\n",
      "conv2d_17 (Conv2D)              (None, 128, 128, 16) 2320        conv2d_16[0][0]                  \n",
      "__________________________________________________________________________________________________\n",
      "conv2d_18 (Conv2D)              (None, 128, 128, 1)  17          conv2d_17[0][0]                  \n",
      "==================================================================================================\n",
      "Total params: 1,962,625\n",
      "Trainable params: 1,962,625\n",
      "Non-trainable params: 0\n",
      "__________________________________________________________________________________________________\n"
     ]
    }
   ],
   "source": [
    "# del model\n",
    "# model.save('my_model.h5')  # creates a HDF5 file 'my_model.h5'\n",
    "\n",
    "model = keras.models.load_model('my_model.h5')\n",
    "model.summary()\n"
   ]
  },
  {
   "cell_type": "code",
   "execution_count": 14,
   "metadata": {},
   "outputs": [],
   "source": [
    "# if tf.test.gpu_device_name():\n",
    "#     print('Default GPU Device: {}'.format(tf.test.gpu_device_name()))\n",
    "# else:\n",
    "#     print(\"Please install GPU version of TF\")"
   ]
  },
  {
   "cell_type": "code",
   "execution_count": 35,
   "metadata": {},
   "outputs": [
    {
     "name": "stdout",
     "output_type": "stream",
     "text": [
      "(8, 128, 128, 3) (8, 128, 128, 1)\n"
     ]
    },
    {
     "data": {
      "image/png": "[encoded data removed]",
      "text/plain": [
       "<Figure size 432x288 with 1 Axes>"
      ]
     },
     "metadata": {
      "needs_background": "light"
     },
     "output_type": "display_data"
    }
   ],
   "source": [
    "x, y = valid_gen.__getitem__(7)\n",
    "result = model.predict(x)\n",
    "\n",
    "result = result > 0.5\n",
    "print(x.shape, result.shape)\n",
    "# for i in range(0, len(y)):\n",
    "#     for j in range(0, len(y[i])):\n",
    "#         for k in range(0, len(y[i][j])):\n",
    "#             if result[i][j][k][0]:\n",
    "#                 print(result[i][j][k][0])\n",
    "# #             x[i][j][k][0] = x[i][j][k][0] if result[i][j][k][0] else 0\n",
    "# #             x[i][j][k][1] = x[i][j][k][1] if result[i][j][k][0] else 0\n",
    "# #             x[i][j][k][2] = x[i][j][k][2] if result[i][j][k][0] else 0\n",
    "imshow(x[1])"
   ]
  },
  {
   "cell_type": "code",
   "execution_count": 36,
   "metadata": {},
   "outputs": [
    {
     "data": {
      "text/plain": [
       "<matplotlib.image.AxesImage at 0x7f8d531d3898>"
      ]
     },
     "execution_count": 36,
     "metadata": {},
     "output_type": "execute_result"
    },
    {
     "data": {
      "image/png": "[encoded data removed]",
      "text/plain": [
       "<Figure size 432x288 with 2 Axes>"
      ]
     },
     "metadata": {
      "needs_background": "light"
     },
     "output_type": "display_data"
    }
   ],
   "source": [
    "fig = plt.figure()\n",
    "fig.subplots_adjust(hspace=0.4, wspace=0.4)\n",
    "\n",
    "ax = fig.add_subplot(1, 2, 1)\n",
    "ax.imshow(np.reshape(y[1]*255, (image_size, image_size)), cmap=\"gray\")\n",
    "\n",
    "ax = fig.add_subplot(1, 2, 2)\n",
    "ax.imshow(np.reshape(result[1]*255, (image_size, image_size)), cmap=\"gray\")"
   ]
  },
  {
   "cell_type": "code",
   "execution_count": null,
   "metadata": {},
   "outputs": [],
   "source": []
  },
  {
   "cell_type": "code",
   "execution_count": null,
   "metadata": {},
   "outputs": [],
   "source": []
  },
  {
   "cell_type": "code",
   "execution_count": null,
   "metadata": {},
   "outputs": [],
   "source": []
  }
 ],
 "metadata": {
  "kernelspec": {
   "display_name": "Python 3",
   "language": "python",
   "name": "python3"
  },
  "language_info": {
   "codemirror_mode": {
    "name": "ipython",
    "version": 3
   },
   "file_extension": ".py",
   "mimetype": "text/x-python",
   "name": "python",
   "nbconvert_exporter": "python",
   "pygments_lexer": "ipython3",
   "version": "3.6.8"
  }
 },
 "nbformat": 4,
 "nbformat_minor": 2
}
