{
 "cells": [
  {
   "cell_type": "code",
   "execution_count": null,
   "metadata": {},
   "outputs": [],
   "source": [
    "mport os, glob\n",
    "import sys\n",
    "import copy \n",
    "import pydicom\n",
    "import scipy\n",
    "import scipy.misc\n",
    "import numpy as np\n",
    "import cv2\n",
    "import imageio\n",
    "from scipy.ndimage import rotate"
   ]
  },
  {
   "cell_type": "code",
   "execution_count": null,
   "metadata": {},
   "outputs": [],
   "source": [
    "# CHANGE DATASET STRUCTURE\n",
    "\n",
    "for folder in os.listdir(\"Dataset\"):\n",
    "#     print(folder)\n",
    "    x = folder.split('db')\n",
    "    folder_path = os.path.join('Dataset', folder)\n",
    "#     for subfolder in os.listdir(folder_path):\n",
    "#     subfolder_path = os.path.join(folder_path,subfolder)\n",
    "    for subfolder in os.listdir(folder_path):\n",
    "        subfolder_path = os.path.join(folder_path,subfolder)\n",
    "        if os.path.isdir(subfolder_path):\n",
    "            for sub_sub in os.listdir(subfolder_path):\n",
    "                if os.path.isdir(os.path.join(subfolder_path, sub_sub)):\n",
    "                    for image in os.listdir(os.path.join(subfolder_path, sub_sub)):\n",
    "                        src= os.path.join(subfolder_path, sub_sub, image)\n",
    "                        dst = os.path.join(subfolder_path, sub_sub, x[1]+'_'+image)\n",
    "                        os.rename(src, dst)\n",
    "                        \n",
    "                src= os.path.join(subfolder_path, sub_sub)\n",
    "                dst = os.path.join(subfolder_path, x[1]+'_'+sub_sub)\n",
    "                os.rename(src, dst)"
   ]
  },
  {
   "cell_type": "code",
   "execution_count": null,
   "metadata": {},
   "outputs": [],
   "source": [
    "# COUNT THE NUMBER OF SCANS FOR 1 PATIENT TO APPEND ON THEM\n",
    "def count_scans_startwith(directory, prefix):\n",
    "    count = 0\n",
    "    for file in os.listdir(directory):\n",
    "        if file.startswith(prefix+'_'):\n",
    "            count+=1\n",
    "    return count"
   ]
  },
  {
   "cell_type": "code",
   "execution_count": null,
   "metadata": {},
   "outputs": [],
   "source": [
    "def merge_livertumors(scans_path, masks_path):\n",
    "    for scan in os.listdir(scans_path):\n",
    "        patient_id = scan.split('_')[0]\n",
    "        tumor_volume = None\n",
    "        for mask_dir in os.listdir(masks_path):\n",
    "            if mask_dir.startswith(patient_id+'_livertumor'):\n",
    "                current_tumor = pydicom.dcmread(os.path.join(masks_path, mask_dir, scan)).pixel_array\n",
    "                current_tumor = current_tumor/255.0\n",
    "                current_tumor = np.clip(current_tumor,0,1)\n",
    "                tumor_volume = current_tumor if tumor_volume is None else np.logical_or(tumor_volume,current_tumor)\n",
    "    \n",
    "        if tumor_volume is None:\n",
    "            tumor_volume = np.zeros((512,512))\n",
    "        tumor_volume = [[j*255 for j in i] for i in tumor_volume]\n",
    "        tumor_volume = np.array(tumor_volume)\n",
    "        tumor_volume = tumor_volume.astype(np.uint8)\n",
    "        imageio.imwrite(os.path.join(masks_path, 'merged_livertumors', scan+'.jpg'), tumor_volume"
   ]
  },
  {
   "cell_type": "code",
   "execution_count": null,
   "metadata": {},
   "outputs": [],
   "source": [
    "# REFLECT IMAGE AND MASK TO AUGMENT DATA\n",
    "def reflect_dicom(src_img, src_mask, src_liver_mask, train_path, masks_path, liver_mask_path, patient_id, patient_imgs_count):\n",
    "    reflected_img = copy.deepcopy(src_img)\n",
    "    reflected_img.PixelData = np.fliplr(reflected_img.pixel_array).tobytes()\n",
    "    \n",
    "\n",
    "    reflected_liver_mask = copy.deepcopy(src_liver_mask)\n",
    "    reflected_liver_mask.PixelData = np.fliplr(reflected_liver_mask.pixel_array).tobytes()\n",
    "    reflected_liver_mask.save_as(os.path.join(liver_mask_path, patient_id+'_image_'+str(patient_imgs_count)+'_aug'))\n",
    "            \n",
    "    reflected_mask = np.fliplr(src_mask)\n",
    "    \n",
    "   \n",
    "    reflected_img.save_as(os.path.join(train_path, patient_id+'_image_'+str(patient_imgs_count)+'_aug'))\n",
    "\n",
    "    reflected_mask = reflected_mask.astype(np.uint8)\n",
    "    imageio.imwrite(os.path.join(masks_path, 'merged_livertumors', patient_id+'_image_'+str(patient_imgs_count)+'_aug.jpg'), reflected_mask)\n",
    "                    \n",
    "    \n",
    "# ROTATE IMAGE AND MASK TO AUGMENT DATA\n",
    "def rotate_dicom(src_img, src_mask, src_liver_mask, train_path, masks_path, liver_mask_path, patient_id, patient_imgs_count, angle):\n",
    "    rotated_img = copy.deepcopy(src_img)\n",
    "    rotated_img.PixelData = rotate(rotated_img.pixel_array, angle, reshape=False).tobytes()\n",
    "    \n",
    "\n",
    "    rotated_liver_mask = copy.deepcopy(src_liver_mask)\n",
    "    rotated_liver_mask.PixelData = rotate(rotated_liver_mask.pixel_array, angle, reshape=False).tobytes()\n",
    "    rotated_liver_mask.save_as(os.path.join(liver_mask_path, patient_id+'_image_'+str(patient_imgs_count)+'_aug'))\n",
    "    \n",
    "    rotated_mask = rotate(src_mask, angle, reshape=False)\n",
    "    \n",
    "\n",
    "    rotated_img.save_as(os.path.join(train_path, patient_id+'_image_'+str(patient_imgs_count)+'_aug'))\n",
    "    \n",
    "    rotated_mask = rotated_mask.astype(np.uint8)\n",
    "    imageio.imwrite(os.path.join(masks_path, 'merged_livertumors', patient_id+'_image_'+str(patient_imgs_count)+'_aug.jpg'), rotated_mask)    \n",
    "    "
   ]
  },
  {
   "cell_type": "code",
   "execution_count": null,
   "metadata": {},
   "outputs": [],
   "source": [
    "def augment_dicom(train_path, masks_path):\n",
    "    rotation_angles = [x * 90 for x in range(4) if x > 0]\n",
    "    train_files = copy.deepcopy(os.listdir(train_path))\n",
    "    \n",
    "    for scan in train_files:\n",
    "        mask_path = os.path.join(masks_path, 'merged_livertumors', scan+'.jpg')\n",
    "        tumor_mask = cv2.imread(mask_path)\n",
    "        if 1 in tumor_mask:\n",
    "            patient_id = scan.split('_')[0]\n",
    "            patient_imgs_count = count_scans_startwith(train_path, patient_id)\n",
    "            original_img = pydicom.dcmread(os.path.join(train_path, scan)) \n",
    "            liver_mask_path = os.path.join(masks_path, patient_id+'_liver')\n",
    "            liver_mask = pydicom.dcmread(os.path.join(liver_mask_path, scan))\n",
    "            reflect_dicom(original_img, tumor_mask, liver_mask, train_path, masks_path, liver_mask_path, patient_id, patient_imgs_count)\n",
    "            \n",
    "            for angle in rotation_angles:\n",
    "                patient_imgs_count += 1 \n",
    "                rotate_dicom(original_img, tumor_mask, liver_mask, train_path, masks_path, liver_mask_path, patient_id, patient_imgs_count, angle)\n",
    "        "
   ]
  },
  {
   "cell_type": "code",
   "execution_count": null,
   "metadata": {},
   "outputs": [],
   "source": [
    "masks_path = os.path.join('train','masks')\n",
    "training_path = os.path.join('train','patients')\n",
    "\n",
    "augment_dicom(training_path, masks_path)\n",
    "# merge_livertumors(training_path, masks_path)\n",
    "print('done')"
   ]
  },
  {
   "cell_type": "code",
   "execution_count": null,
   "metadata": {},
   "outputs": [],
   "source": [
    "count = 0\n",
    "for mask in os.listdir(os.path.join(masks_path,'merged_livertumors')):\n",
    "    tumor_mask = cv2.imread(os.path.join(masks_path,'merged_livertumors', mask))\n",
    "    if 1 in tumor_mask:\n",
    "        count += 1\n",
    "print(count)\n",
    "# 568"
   ]
  },
  {
   "cell_type": "code",
   "execution_count": null,
   "metadata": {},
   "outputs": [],
   "source": [
    "# REMOVE AUGMENTED DATA\n",
    "for scan in os.listdir(training_path):\n",
    "    if scan.endswith('_aug'):\n",
    "        os.remove(os.path.join(training_path,scan))\n",
    "\n",
    "\n",
    "for mask in os.listdir(os.path.join(masks_path, 'merged_livertumors')):\n",
    "    if mask.endswith('_aug.jpg'):\n",
    "        os.remove(os.path.join(masks_path, 'merged_livertumors', mask))\n",
    "print('done')"
   ]
  }
 ],
 "metadata": {
  "kernelspec": {
   "display_name": "Python 3",
   "language": "python",
   "name": "python3"
  },
  "language_info": {
   "codemirror_mode": {
    "name": "ipython",
    "version": 3
   },
   "file_extension": ".py",
   "mimetype": "text/x-python",
   "name": "python",
   "nbconvert_exporter": "python",
   "pygments_lexer": "ipython3",
   "version": "3.7.3"
  }
 },
 "nbformat": 4,
 "nbformat_minor": 2
}
